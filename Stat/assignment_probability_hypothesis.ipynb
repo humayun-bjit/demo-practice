{
 "cells": [
  {
   "cell_type": "markdown",
   "metadata": {},
   "source": [
    "<div align=\"center\">\n",
    "\n",
    "# <u>**Assignment on Probability and Hypotheses**</u>\n",
    "\n",
    "</div>\n",
    "\n",
    "\n"
   ]
  },
  {
   "cell_type": "markdown",
   "metadata": {},
   "source": [
    "### **Module import**"
   ]
  },
  {
   "cell_type": "code",
   "execution_count": 1,
   "metadata": {},
   "outputs": [],
   "source": [
    "import numpy as np\n",
    "import matplotlib.pyplot as plt\n",
    "import math"
   ]
  },
  {
   "cell_type": "markdown",
   "metadata": {},
   "source": [
    "#### 1(a) to simulate a discrete random variable representing a die roll (numbers 1 through 6)"
   ]
  },
  {
   "cell_type": "code",
   "execution_count": 2,
   "metadata": {},
   "outputs": [
    {
     "name": "stdout",
     "output_type": "stream",
     "text": [
      "Result: 5\n"
     ]
    }
   ],
   "source": [
    "die_roll_array = np.random.randint(1,7)\n",
    "print(f\"Result: {die_roll_array}\")"
   ]
  },
  {
   "cell_type": "markdown",
   "metadata": {},
   "source": [
    "#### 1(b) Generate 10,000 random rolls of a fair die using NumPy"
   ]
  },
  {
   "cell_type": "code",
   "execution_count": 4,
   "metadata": {},
   "outputs": [
    {
     "name": "stdout",
     "output_type": "stream",
     "text": [
      "After generating (10,000) random rolls of a fair die using NumPy: [3 2 3 ... 2 1 4]\n"
     ]
    }
   ],
   "source": [
    "random_die_roll = np.random.randint(1,7,10000)\n",
    "print(f\"After generating (10,000) random rolls of a fair die using NumPy: {random_die_roll}\")\n",
    "# print(len(random_die_roll))"
   ]
  },
  {
   "cell_type": "markdown",
   "metadata": {},
   "source": [
    "#### 1(c) Plot the probability mass function (PMF) using a bar plot."
   ]
  },
  {
   "cell_type": "code",
   "execution_count": 7,
   "metadata": {},
   "outputs": [
    {
     "name": "stdout",
     "output_type": "stream",
     "text": [
      "The unique element: [1 2 3 4 5 6], Unique elements count result: [1635 1732 1670 1606 1664 1693]\n",
      "\n",
      "The result of probability mass function (PMF): [0.1635 0.1732 0.167  0.1606 0.1664 0.1693]\n"
     ]
    },
    {
     "data": {
      "image/png": "[encoded data removed]",
      "text/plain": [
       "<Figure size 640x480 with 1 Axes>"
      ]
     },
     "metadata": {},
     "output_type": "display_data"
    }
   ],
   "source": [
    "x_unique_elements, y_unique_elements_count = np.unique(random_die_roll, return_counts=True)\n",
    "print(f\"The unique element: {x_unique_elements}, Unique elements count result: {y_unique_elements_count}\")\n",
    "\n",
    "probabilities = y_unique_elements_count / len(random_die_roll)\n",
    "print(f\"\\nThe result of probability mass function (PMF): {probabilities}\")\n",
    "\n",
    "\n",
    "plt.bar(x_unique_elements, probabilities)\n",
    "\n",
    "plt.xlabel('Unique Die Roll Outcome')\n",
    "plt.ylabel('Probability')\n",
    "plt.title('PMF of Fair Die Rolls')\n",
    "plt.show()"
   ]
  },
  {
   "cell_type": "markdown",
   "metadata": {},
   "source": [
    "#### 2(a). What is the probability of getting exactly three correct answers?"
   ]
  },
  {
   "cell_type": "code",
   "execution_count": 8,
   "metadata": {},
   "outputs": [
    {
     "name": "stdout",
     "output_type": "stream",
     "text": [
      "The probability of exactly three(3) correct answer: 0.18521999999999994\n"
     ]
    }
   ],
   "source": [
    "\n",
    "probability_of_correct_answer = 0.3\n",
    "probabilities_of_not_correct = 0.7\n",
    "\n",
    "combinations_of_3_correct_answers = math.comb(6, 3)\n",
    "\n",
    "the_probabilities_of_correct_answer = (combinations_of_3_correct_answers *\n",
    "                                        (probability_of_correct_answer ** 3) *\n",
    "                                        (probabilities_of_not_correct ** 3))\n",
    "                                        \n",
    "print(f\"The probability of exactly three(3) correct answer: {the_probabilities_of_correct_answer}\")\n"
   ]
  },
  {
   "cell_type": "markdown",
   "metadata": {},
   "source": [
    "#### 2(b). What is the probability of getting at least two correct answers?"
   ]
  },
  {
   "cell_type": "code",
   "execution_count": 9,
   "metadata": {},
   "outputs": [
    {
     "name": "stdout",
     "output_type": "stream",
     "text": [
      "The probability of getting at least two correct answers: 0.5798249999999998\n"
     ]
    }
   ],
   "source": [
    "def binomial_probability(experiment_number, number_of_success, probability_of_success):\n",
    "    return math.comb(experiment_number, number_of_success) * \\\n",
    "                    (probability_of_success ** number_of_success) *\\\n",
    "                        ((1 - probability_of_success) ** (experiment_number - number_of_success))\n",
    "\n",
    "total_probability = 0\n",
    "\n",
    "for k in range(2, 7):\n",
    "    total_probability += binomial_probability(6, k, probability_of_correct_answer)\n",
    "\n",
    "print(f\"The probability of getting at least two correct answers: {total_probability}\")"
   ]
  },
  {
   "cell_type": "markdown",
   "metadata": {},
   "source": [
    "#### 2(c). What is the probability of getting at most two correct answers?"
   ]
  },
  {
   "cell_type": "code",
   "execution_count": 10,
   "metadata": {},
   "outputs": [
    {
     "name": "stdout",
     "output_type": "stream",
     "text": [
      "The probability of getting at most two correct answers: 0.7443099999999997\n"
     ]
    }
   ],
   "source": [
    "total_probability = 0\n",
    "\n",
    "for k in range(0, 3):\n",
    "    total_probability += binomial_probability(6, k, probability_of_correct_answer)\n",
    "\n",
    "print(f\"The probability of getting at most two correct answers: {total_probability}\")"
   ]
  },
  {
   "cell_type": "markdown",
   "metadata": {},
   "source": [
    "#### 2(d). What is the probability of getting less than five correct answers?"
   ]
  },
  {
   "cell_type": "code",
   "execution_count": 11,
   "metadata": {},
   "outputs": [
    {
     "name": "stdout",
     "output_type": "stream",
     "text": [
      "The probability of getting less than five correct answers :0.9890649999999996\n"
     ]
    }
   ],
   "source": [
    "total_probability = 0\n",
    "\n",
    "for k in range(0, 5):\n",
    "    total_probability += binomial_probability(6, k, probability_of_correct_answer)\n",
    "\n",
    "print(f\"The probability of getting less than five correct answers :{total_probability}\")"
   ]
  },
  {
   "cell_type": "markdown",
   "metadata": {},
   "source": [
    "#### 3(a). Exactly three will experience anaphylaxis"
   ]
  },
  {
   "cell_type": "code",
   "execution_count": 12,
   "metadata": {},
   "outputs": [
    {
     "name": "stdout",
     "output_type": "stream",
     "text": [
      "The probability of exactly three will experience anaphylaxis :0.0017695331577585243\n"
     ]
    }
   ],
   "source": [
    "def poisson_distribution(lambda_value, k):\n",
    "    return (math.exp(-lambda_value) *\\\n",
    "        lambda_value**k)/math.factorial(k)\n",
    "    \n",
    "\n",
    "probability_result = poisson_distribution(12, 3)\n",
    "\n",
    "print(f\"The probability of exactly three will experience anaphylaxis :{probability_result}\")"
   ]
  },
  {
   "cell_type": "markdown",
   "metadata": {},
   "source": [
    "#### 3(b). At least two will experience anaphylaxis"
   ]
  },
  {
   "cell_type": "code",
   "execution_count": 13,
   "metadata": {},
   "outputs": [
    {
     "name": "stdout",
     "output_type": "stream",
     "text": [
      "The probability of at least two will experience anaphylaxi : 0.9994777419499671\n"
     ]
    }
   ],
   "source": [
    "probability_result = 0\n",
    "for i in range(0,3):\n",
    "    probability_result += poisson_distribution(12, i)\n",
    "\n",
    "print(f\"The probability of at least two will experience anaphylaxi : {1-probability_result}\")"
   ]
  },
  {
   "cell_type": "markdown",
   "metadata": {},
   "source": [
    "#### 3(c). At most two-experience anaphylaxis"
   ]
  },
  {
   "cell_type": "code",
   "execution_count": 14,
   "metadata": {},
   "outputs": [
    {
     "name": "stdout",
     "output_type": "stream",
     "text": [
      "At most two-experience anaphylaxis probability is: 0.0005222580500328978\n"
     ]
    }
   ],
   "source": [
    "probability_result = 0\n",
    "\n",
    "for i in range(0,3):\n",
    "    probability_result += poisson_distribution(12, i)\n",
    "\n",
    "print(f\"At most two-experience anaphylaxis probability is: {probability_result}\")"
   ]
  },
  {
   "cell_type": "markdown",
   "metadata": {},
   "source": [
    "#### 4(a). What is the chance of height above 168 cm?"
   ]
  },
  {
   "cell_type": "code",
   "execution_count": 15,
   "metadata": {},
   "outputs": [
    {
     "name": "stdout",
     "output_type": "stream",
     "text": [
      "0.945200708300442\n",
      "P(Height > 168 cm): 0.054799291699557995\n"
     ]
    }
   ],
   "source": [
    "from scipy.stats import norm\n",
    "z = (168 - 160) / 5\n",
    "print(norm.cdf(z))\n",
    "prob_above_168 = 1 - norm.cdf(z)\n",
    "print(\"P(Height > 168 cm):\", prob_above_168)"
   ]
  },
  {
   "cell_type": "markdown",
   "metadata": {},
   "source": [
    "#### 4(b). What percentage of students will have height above 168 cm?"
   ]
  },
  {
   "cell_type": "code",
   "execution_count": 16,
   "metadata": {},
   "outputs": [
    {
     "name": "stdout",
     "output_type": "stream",
     "text": [
      "Percentage (Height > 168 cm): 5.479929169955799\n"
     ]
    }
   ],
   "source": [
    "percentage_above_168 = prob_above_168 * 100\n",
    "print(\"Percentage (Height > 168 cm):\", percentage_above_168)"
   ]
  },
  {
   "cell_type": "markdown",
   "metadata": {},
   "source": [
    "#### 4(c). How many of students will have height between 150 cm to 175cm?"
   ]
  },
  {
   "cell_type": "code",
   "execution_count": 17,
   "metadata": {},
   "outputs": [
    {
     "name": "stdout",
     "output_type": "stream",
     "text": [
      "Number of students (Height between 150 cm and 175 cm): 487.94998501009536\n"
     ]
    }
   ],
   "source": [
    "z_lower = (150 - 160) / 5\n",
    "z_upper = (175 - 160) / 5\n",
    "prob_between = norm.cdf(z_upper) - norm.cdf(z_lower)\n",
    "num_students_between = prob_between * 500\n",
    "print(\"Number of students (Height between 150 cm and 175 cm):\", num_students_between)"
   ]
  },
  {
   "cell_type": "markdown",
   "metadata": {},
   "source": [
    "# 5. To Calculate a P-Value\n",
    "\n",
    "## **Steps to Find the P-Value**\n",
    "\n",
    "Before calculating the p-value, follow these steps:\n",
    "\n",
    "1. **Identify the correct test statistic.**\n",
    "2. **Calculate the test statistic** using the relevant properties of your sample.\n",
    "3. **Specify the characteristics** of the test statistic’s sampling distribution.\n",
    "4. **Place the test statistic** in the sampling distribution to find the p-value.\n",
    "\n",
    "---\n",
    "\n",
    "## **Tail Tests in Hypothesis Testing**\n",
    "\n",
    "Once the above steps are completed, determine the direction of the test in your hypothesis testing. The three types are:\n",
    "\n",
    "1. **Left-Tailed Test**\n",
    "2. **Right-Tailed Test**\n",
    "3. **Two-Tailed Test**\n",
    "\n",
    "---\n",
    "\n",
    "## **Finding the P-Value**\n",
    "\n",
    "### **1. Left-Tailed Test**\n",
    "\n",
    "Assume we obtain a z-score of **-1.22** and we are conducting a left-tailed hypothesis test. To find the p-value, locate the z-score **-1.22** in the z-table:\n",
    "\n",
    "![Left-Tailed Test Z-Table](1.png)\n",
    "\n",
    "The p-value corresponding to a z-score of **-1.22** is **0.1112**.\n",
    "\n",
    "---\n",
    "\n",
    "### **2. Right-Tailed Test**\n",
    "\n",
    "Assume we obtain a z-score of **1.43** and we are conducting a right-tailed hypothesis test. To find the p-value, locate the z-score **1.43** in the z-table:\n",
    "\n",
    "![Right-Tailed Test Z-Table](2.png)\n",
    "\n",
    "Since this is a right-tailed test, subtract the value from 1:\n",
    "\n",
    "**P-value = 1 - 0.9236 = 0.0764**\n",
    "\n",
    "---\n",
    "\n",
    "### **3. Two-Tailed Test**\n",
    "\n",
    "Assume we obtain a z-score of **-0.84** and we are conducting a two-tailed hypothesis test. To find the p-value, locate the z-score **-0.84** in the z-table:\n",
    "\n",
    "![Two-Tailed Test Z-Table](3.png)\n",
    "\n",
    "Since this is a two-tailed test, multiply the value by 2:\n",
    "\n",
    "**P-value = 0.2005 × 2 = 0.401**\n",
    "\n",
    "\n",
    "If we know these three techniques then we can calculate p-value according to our need.\n"
   ]
  }
 ],
 "metadata": {
  "kernelspec": {
   "display_name": "statenv",
   "language": "python",
   "name": "python3"
  },
  "language_info": {
   "codemirror_mode": {
    "name": "ipython",
    "version": 3
   },
   "file_extension": ".py",
   "mimetype": "text/x-python",
   "name": "python",
   "nbconvert_exporter": "python",
   "pygments_lexer": "ipython3",
   "version": "3.12.7"
  }
 },
 "nbformat": 4,
 "nbformat_minor": 2
}
